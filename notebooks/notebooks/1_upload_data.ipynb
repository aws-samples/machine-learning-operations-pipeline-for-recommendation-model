{
 "cells": [
  {
   "cell_type": "markdown",
   "id": "74ff1676-e924-4bff-b2dc-3cdfc33eb954",
   "metadata": {},
   "source": [
    "## Upload Data"
   ]
  },
  {
   "cell_type": "markdown",
   "id": "939375df-ff06-482e-ab4a-a3378150f1da",
   "metadata": {},
   "source": [
    "### 1. Setup"
   ]
  },
  {
   "cell_type": "code",
   "execution_count": 2,
   "id": "0d101a00-3940-4e61-8237-55e03d389b0a",
   "metadata": {},
   "outputs": [],
   "source": [
    "%load_ext autoreload\n",
    "%autoreload 2"
   ]
  },
  {
   "cell_type": "code",
   "execution_count": 8,
   "id": "bbc5e559-eabe-4ccf-9a24-d0c66f53f5c4",
   "metadata": {},
   "outputs": [
    {
     "name": "stdout",
     "output_type": "stream",
     "text": [
      "sagemaker.config INFO - Not applying SDK defaults from location: /etc/xdg/sagemaker/config.yaml\n",
      "sagemaker.config INFO - Not applying SDK defaults from location: /home/sagemaker-user/.config/sagemaker/config.yaml\n",
      "sagemaker.config INFO - Not applying SDK defaults from location: /etc/xdg/sagemaker/config.yaml\n",
      "sagemaker.config INFO - Not applying SDK defaults from location: /home/sagemaker-user/.config/sagemaker/config.yaml\n"
     ]
    }
   ],
   "source": [
    "import sagemaker\n",
    "\n",
    "sagemaker_session = sagemaker.Session()\n",
    "role = sagemaker.get_execution_role()\n",
    "\n",
    "use_default_bucket = False\n",
    "if use_default_bucket:\n",
    "    bucket = sagemaker_session.default_bucket()\n",
    "else:\n",
    "    bucket = 'proto-975050344093-ap-northeast-2-mlops-bucket'"
   ]
  },
  {
   "cell_type": "markdown",
   "id": "fce7fb36-6a40-4415-87e8-811d5f47425a",
   "metadata": {},
   "source": [
    "### 2. Upload sample data to S3"
   ]
  },
  {
   "cell_type": "code",
   "execution_count": 9,
   "id": "d95026eb-8bd5-425c-8da6-5dd70b3aa7da",
   "metadata": {},
   "outputs": [],
   "source": [
    "# Local data path\n",
    "local_inputs = \"../data/ncf-sample/\""
   ]
  },
  {
   "cell_type": "code",
   "execution_count": 13,
   "id": "7a3e3746-cbf8-4e80-8c86-f74be456d132",
   "metadata": {},
   "outputs": [],
   "source": [
    "# S3 pata\n",
    "data_prefix = \"data/ncf-sample\"\n",
    "s3_input_data_uri = f\"s3://{bucket}/{data_prefix}\""
   ]
  },
  {
   "cell_type": "code",
   "execution_count": 21,
   "id": "ed075700-f09f-44e9-b637-24a92369cc08",
   "metadata": {},
   "outputs": [
    {
     "name": "stdout",
     "output_type": "stream",
     "text": [
      "2024-02-21 05:45:30    2891424 data/ncf-sample/ml-1m.test.negative\n",
      "2024-02-21 05:45:30     128039 data/ncf-sample/ml-1m.test.rating\n",
      "2024-02-21 05:45:30   20982911 data/ncf-sample/ml-1m.train.rating\n"
     ]
    }
   ],
   "source": [
    "# list s3 files\n",
    "! aws s3 ls {s3_input_data_uri} --recursive"
   ]
  },
  {
   "cell_type": "code",
   "execution_count": 19,
   "id": "ed5c1945-3f98-468a-a366-08d744d04b1e",
   "metadata": {},
   "outputs": [],
   "source": [
    "# clean up s3 files\n",
    "! aws s3 rm {s3_input_data_uri} --recursive"
   ]
  },
  {
   "cell_type": "code",
   "execution_count": 20,
   "id": "c82983d7-fb99-422a-8320-97d48e986988",
   "metadata": {},
   "outputs": [
    {
     "name": "stdout",
     "output_type": "stream",
     "text": [
      "sagemaker.config INFO - Not applying SDK defaults from location: /etc/xdg/sagemaker/config.yaml\n",
      "sagemaker.config INFO - Not applying SDK defaults from location: /home/sagemaker-user/.config/sagemaker/config.yaml\n",
      "s3://cjproto-975050344093-ap-northeast-2-mlops-bucket/data/ncf-sample\n"
     ]
    }
   ],
   "source": [
    "# upload files to s3\n",
    "_ = sagemaker.s3.S3Uploader.upload(\n",
    "    local_path=local_inputs, \n",
    "    desired_s3_uri=s3_input_data_uri,    \n",
    ")\n",
    "print(s3_input_data_uri)"
   ]
  }
 ],
 "metadata": {
  "kernelspec": {
   "display_name": "Python 3 (ipykernel)",
   "language": "python",
   "name": "python3"
  },
  "language_info": {
   "codemirror_mode": {
    "name": "ipython",
    "version": 3
   },
   "file_extension": ".py",
   "mimetype": "text/x-python",
   "name": "python",
   "nbconvert_exporter": "python",
   "pygments_lexer": "ipython3",
   "version": "3.10.13"
  }
 },
 "nbformat": 4,
 "nbformat_minor": 5
}
