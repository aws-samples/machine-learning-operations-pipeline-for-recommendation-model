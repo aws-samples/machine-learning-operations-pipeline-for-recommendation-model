{
 "cells": [
  {
   "cell_type": "markdown",
   "id": "84484217-512c-41d6-8f35-a54f3fb9575c",
   "metadata": {},
   "source": [
    "# Trainig Pipeline 재학습"
   ]
  },
  {
   "cell_type": "markdown",
   "id": "ef738eb9-a88c-4552-82b8-c9d83ef45778",
   "metadata": {},
   "source": [
    "## 1. 환경설정\n",
    "\n",
    "### 1.1 프로젝트 기본정보"
   ]
  },
  {
   "cell_type": "code",
   "execution_count": 46,
   "id": "e324119e-332b-46c0-88c4-1c11e916307c",
   "metadata": {},
   "outputs": [],
   "source": [
    "import sys\n",
    "import boto3\n",
    "import sagemaker\n",
    "import json\n",
    "import pprint as pp"
   ]
  },
  {
   "cell_type": "code",
   "execution_count": 103,
   "id": "7316f2ff-fa1d-4b2d-9145-39fdf437dd11",
   "metadata": {},
   "outputs": [],
   "source": [
    "# project namespace\n",
    "project_prefix = \"proto\"\n",
    "\n",
    "# model prefix - depends on model version\n",
    "model_group = \"ncf-sample-1\"\n",
    "\n",
    "# pipeline and model props\n",
    "training_pipeline_name = f'{project_prefix}-{model_group}-training'\n",
    "model_package_group_name = f'{project_prefix}-{model_group}'\n",
    "\n",
    "# parameter store keys\n",
    "key_repackage_lambda_arn = f'/{project_prefix}/MlOps/Lambda/Function/ModelRepackage'\n",
    "key_metric_lambda_arn = f'/{project_prefix}/MlOps/Lambda/Function/ModelMetric'\n",
    "key_s3_mlops_bucket_name = f'/{project_prefix}/MlOps/S3/Bucket/Name/s3MlOpsBucket'\n",
    "\n",
    "# training pipeline manifest file\n",
    "pipeline_manifest_file = \"pipeline_config.json\""
   ]
  },
  {
   "cell_type": "code",
   "execution_count": 61,
   "id": "69b5deff-9cb7-422c-a5ad-2653fcc63b7b",
   "metadata": {},
   "outputs": [],
   "source": [
    "# S3 Bucket\n",
    "ssm = boto3.client('ssm')\n",
    "paramRes = ssm.get_parameter(Name=key_s3_mlops_bucket_name, WithDecryption=False)\n",
    "bucket = paramRes[\"Parameter\"][\"Value\"]\n",
    "\n",
    "# S3 data path\n",
    "data_prefix = f\"data/{model_group}\"\n",
    "code_prefix=f'code/{model_group}'\n",
    "model_prefix=f'model/{model_group}'\n",
    "\n",
    "s3_input_data_uri = f\"s3://{bucket}/{data_prefix}\"\n",
    "s3_model_output_uri =  f\"s3://{bucket}/{model_prefix}\""
   ]
  },
  {
   "cell_type": "code",
   "execution_count": 62,
   "id": "e96a428f-c02c-4216-af46-42fd9a0dfbda",
   "metadata": {},
   "outputs": [
    {
     "name": "stdout",
     "output_type": "stream",
     "text": [
      "sagemaker.config INFO - Not applying SDK defaults from location: /etc/xdg/sagemaker/config.yaml\n",
      "sagemaker.config INFO - Not applying SDK defaults from location: /home/sagemaker-user/.config/sagemaker/config.yaml\n",
      "sagemaker.config INFO - Not applying SDK defaults from location: /etc/xdg/sagemaker/config.yaml\n",
      "sagemaker.config INFO - Not applying SDK defaults from location: /home/sagemaker-user/.config/sagemaker/config.yaml\n",
      "bucket:  cjproto-975050344093-ap-northeast-2-mlops-bucket\n",
      "role:  arn:aws:iam::975050344093:role/cjprotoDev-cjprotoExperim-SageMakerStudioSageMakerE-ovIXL1hq7LV4\n"
     ]
    }
   ],
   "source": [
    "# sagemaker\n",
    "region = boto3.Session().region_name\n",
    "sagemaker_session = sagemaker.session.Session()\n",
    "role = sagemaker.get_execution_role()\n",
    "\n",
    "print(\"bucket: \", bucket)\n",
    "print(\"role: \", role)\n",
    "\n",
    "sm_client = boto3.client('sagemaker', region_name=region)"
   ]
  },
  {
   "cell_type": "markdown",
   "id": "43e9dc95-f55b-4b5b-8150-1bf93701f289",
   "metadata": {},
   "source": [
    "### 1.2 기존 파이프라인 파라메터"
   ]
  },
  {
   "cell_type": "code",
   "execution_count": 63,
   "id": "fdd2d36c-2a63-4495-9e9f-87d64c2038eb",
   "metadata": {},
   "outputs": [
    {
     "name": "stdout",
     "output_type": "stream",
     "text": [
      "{'PipelineName': 'cjproto-ncf-sample-training',\n",
      " 'PipelineParameters': [{'Name': 'InputData',\n",
      "                         'Value': 's3://cjproto-975050344093-ap-northeast-2-mlops-bucket/data/ncf-sample'},\n",
      "                        {'Name': 'TrainCode',\n",
      "                         'Value': 's3://cjproto-975050344093-ap-northeast-2-mlops-bucket/code/ncf-sample/source.tar.gz'},\n",
      "                        {'Name': 'ModelApprovalStatus',\n",
      "                         'Value': 'PendingManualApproval'}]}\n"
     ]
    }
   ],
   "source": [
    "# 기존 파이프라인 정보 읽기\n",
    "s3 = boto3.client('s3')\n",
    "_res = s3.get_object(Bucket=bucket, Key=f'{code_prefix}/{pipeline_manifest_file}')\n",
    "_body = _res['Body'].read()\n",
    "pipeline_config = json.loads(_body.decode(\"utf-8\"))\n",
    "\n",
    "pp.pprint(pipeline_config)"
   ]
  },
  {
   "cell_type": "markdown",
   "id": "a9abb619-3f96-4708-ac46-9a550378c763",
   "metadata": {},
   "source": [
    "## 2. 파이프라인 업데이트\n",
    "\n",
    "## 2.1 학습/추론 코드 업데이트"
   ]
  },
  {
   "cell_type": "code",
   "execution_count": 64,
   "id": "c0dee751-f87f-4a79-98f6-c48ece28cbe9",
   "metadata": {},
   "outputs": [],
   "source": [
    "# 새로운 학습 /추론 코드 경로\n",
    "\n",
    "# code repository\n",
    "model_code_dir = \"src_v1\"\n",
    "\n",
    "# src 폴더 경로 설정\n",
    "sys.path.append(f'./{model_code_dir}')"
   ]
  },
  {
   "cell_type": "code",
   "execution_count": 65,
   "id": "a50c8418-eff1-46f3-af74-a25746bc9176",
   "metadata": {},
   "outputs": [],
   "source": [
    "import os\n",
    "\n",
    "package_dir = 'code_pkg'\n",
    "os.makedirs(package_dir, exist_ok=True)\n",
    "\n",
    "code_dir = f'../{model_code_dir}'"
   ]
  },
  {
   "cell_type": "code",
   "execution_count": 122,
   "id": "2b33b66b-4b60-4736-894f-bdb38e9e1158",
   "metadata": {},
   "outputs": [
    {
     "name": "stdout",
     "output_type": "stream",
     "text": [
      "/home/sagemaker-user/cjproto-mlops-repo/mlpipelines/sample_recomm_model/code_pkg\n",
      "common_utils.py\n",
      "config.py\n",
      "data_utils.py\n",
      "evaluate.py\n",
      "inference.py\n",
      "model.py\n",
      "model_config.json\n",
      "requirements.txt\n",
      "train.py\n",
      "train_lib.py\n"
     ]
    }
   ],
   "source": [
    "%%sh -s {package_dir} {code_dir}\n",
    "\n",
    "package_dir=$1\n",
    "code_dir=$2\n",
    "\n",
    "cd $package_dir # 폴더 생성\n",
    "echo $PWD\n",
    "rm -rf ./*\n",
    "cp -r $code_dir/*.py  .  # src py 모두 카피\n",
    "cp -r $code_dir/*.txt  .  # src 파일 모두 카피\n",
    "cp -r $code_dir/*.json  .  # json 파일 모두 카피\n",
    "tar -czvf source_v6.tar.gz * # model.tar.gz 파일 생성"
   ]
  },
  {
   "cell_type": "code",
   "execution_count": 123,
   "id": "f7a64188-4006-41e9-afe3-a14467ed5936",
   "metadata": {},
   "outputs": [
    {
     "name": "stdout",
     "output_type": "stream",
     "text": [
      "source_artifact: \n",
      " s3://cjproto-975050344093-ap-northeast-2-mlops-bucket/code/ncf-sample/source_v6.tar.gz\n"
     ]
    }
   ],
   "source": [
    "source_path = os.path.join(package_dir, 'source_v6.tar.gz')\n",
    "source_artifact = sagemaker_session.upload_data(source_path, bucket, code_prefix)\n",
    "print(\"source_artifact: \\n\", source_artifact)"
   ]
  },
  {
   "cell_type": "markdown",
   "id": "d24fff65-682e-417e-ae70-079693ae1f79",
   "metadata": {},
   "source": [
    "### 2.2 파이프라인 파라메터 업데이트"
   ]
  },
  {
   "cell_type": "code",
   "execution_count": 124,
   "id": "aefb9899-983f-499c-ad1d-3e38f054adfa",
   "metadata": {},
   "outputs": [],
   "source": [
    "params = [\n",
    "    {\n",
    "        'Name': 'InputData',\n",
    "        'Value': f\"s3://{bucket}/{data_prefix}\"\n",
    "    },\n",
    "    {\n",
    "        'Name': 'TrainCode',\n",
    "        'Value': source_artifact\n",
    "    },\n",
    "    {\n",
    "        'Name': 'ModelApprovalStatus',\n",
    "        'Value': 'PendingManualApproval'\n",
    "    }\n",
    "]"
   ]
  },
  {
   "cell_type": "code",
   "execution_count": 125,
   "id": "12575d70-5527-455e-bbdf-ba5ecb33eb10",
   "metadata": {},
   "outputs": [
    {
     "name": "stdout",
     "output_type": "stream",
     "text": [
      "{'PipelineName': 'cjproto-ncf-sample-training',\n",
      " 'PipelineParameters': [{'Name': 'InputData',\n",
      "                         'Value': 's3://cjproto-975050344093-ap-northeast-2-mlops-bucket/data/ncf-sample'},\n",
      "                        {'Name': 'TrainCode',\n",
      "                         'Value': 's3://cjproto-975050344093-ap-northeast-2-mlops-bucket/code/ncf-sample/source_v6.tar.gz'},\n",
      "                        {'Name': 'ModelApprovalStatus',\n",
      "                         'Value': 'PendingManualApproval'}]}\n"
     ]
    }
   ],
   "source": [
    "pipeline_config['PipelineParameters'] = params\n",
    "\n",
    "pp.pprint(pipeline_config)"
   ]
  },
  {
   "cell_type": "markdown",
   "id": "5f1f434b-e4ef-4451-943f-850af129065d",
   "metadata": {},
   "source": [
    "## 3. 파이프라인 다시 실행"
   ]
  },
  {
   "cell_type": "code",
   "execution_count": 126,
   "id": "62195370-da91-4acb-8278-35d87f890f23",
   "metadata": {},
   "outputs": [],
   "source": [
    "# 파일로 기록\n",
    "with open(pipeline_manifest_file, 'w', encoding='utf-8') as f:\n",
    "    json.dump(pipeline_config, f, ensure_ascii=False, indent=4)"
   ]
  },
  {
   "cell_type": "code",
   "execution_count": 129,
   "id": "f8c6a8d5-3dad-42ea-93e1-bd727fa48395",
   "metadata": {},
   "outputs": [],
   "source": [
    " # S3 코드 경로에 업로드\n",
    "manifest_artifact = sagemaker_session.upload_data(pipeline_manifest_file, bucket, code_prefix)"
   ]
  }
 ],
 "metadata": {
  "kernelspec": {
   "display_name": "Python 3 (ipykernel)",
   "language": "python",
   "name": "python3"
  },
  "language_info": {
   "codemirror_mode": {
    "name": "ipython",
    "version": 3
   },
   "file_extension": ".py",
   "mimetype": "text/x-python",
   "name": "python",
   "nbconvert_exporter": "python",
   "pygments_lexer": "ipython3",
   "version": "3.10.14"
  }
 },
 "nbformat": 4,
 "nbformat_minor": 5
}
