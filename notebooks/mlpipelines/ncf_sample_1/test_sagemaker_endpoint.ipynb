{
 "cells": [
  {
   "cell_type": "markdown",
   "id": "26b9134b-dd96-483a-86c5-e688e5d5a76d",
   "metadata": {},
   "source": [
    "# Test Sagemaker Endpoint"
   ]
  },
  {
   "cell_type": "code",
   "execution_count": 5,
   "id": "2fc1fcdc-9d68-4cf0-8870-ff7fc8ddaf57",
   "metadata": {},
   "outputs": [],
   "source": [
    "import boto3\n",
    "import json\n",
    "sm_runtime = boto3.client('sagemaker-runtime')"
   ]
  },
  {
   "cell_type": "code",
   "execution_count": 3,
   "id": "2f2ca677-0a55-4644-8a02-6ad973c1c522",
   "metadata": {},
   "outputs": [],
   "source": [
    "# Config\n",
    "endpoint_name = \"proto-ncf-sample-1-endpoint\""
   ]
  },
  {
   "cell_type": "code",
   "execution_count": 6,
   "id": "a4b69f8c-740b-4932-b6cb-b4328a9871a3",
   "metadata": {},
   "outputs": [
    {
     "name": "stdout",
     "output_type": "stream",
     "text": [
      "{\"user\": [0, 0, 0, 0, 0, 0, 0, 0, 0, 0], \"item\": [25, 1064, 174, 2791, 3373, 269, 2678, 1902, 3641, 1216]}\n"
     ]
    }
   ],
   "source": [
    "# Data\n",
    "# data and model from : https://github.com/hexiangnan/neural_collaborative_filtering/tree/master\n",
    "data = {\n",
    "    'user':[0, 0, 0, 0, 0, 0, 0, 0, 0, 0],\n",
    "    'item':[25, 1064, 174, 2791, 3373, 269, 2678, 1902, 3641, 1216]\n",
    "}\n",
    "payload = json.dumps(data)\n",
    "print(payload)"
   ]
  },
  {
   "cell_type": "code",
   "execution_count": 11,
   "id": "cc27e0d9-840f-4a75-87c4-f68362628a9b",
   "metadata": {},
   "outputs": [
    {
     "name": "stdout",
     "output_type": "stream",
     "text": [
      "[174, 25, 1902, 269, 1064, 1216, 2678, 3373, 2791, 3641]\n"
     ]
    }
   ],
   "source": [
    "# Invoke Endpoint\n",
    "response = sm_runtime.invoke_endpoint(\n",
    "        EndpointName=endpoint_name, \n",
    "        ContentType='application/json', \n",
    "        Body=payload,\n",
    "    )\n",
    "\n",
    "recomm = response['Body'].read().decode(\"utf-8\")\n",
    "print(recomm)"
   ]
  }
 ],
 "metadata": {
  "kernelspec": {
   "display_name": "Python 3 (ipykernel)",
   "language": "python",
   "name": "python3"
  },
  "language_info": {
   "codemirror_mode": {
    "name": "ipython",
    "version": 3
   },
   "file_extension": ".py",
   "mimetype": "text/x-python",
   "name": "python",
   "nbconvert_exporter": "python",
   "pygments_lexer": "ipython3",
   "version": "3.10.14"
  }
 },
 "nbformat": 4,
 "nbformat_minor": 5
}
