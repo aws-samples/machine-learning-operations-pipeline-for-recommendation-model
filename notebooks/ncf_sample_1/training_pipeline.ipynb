{
 "cells": [
  {
   "cell_type": "markdown",
   "id": "15fc094a-393c-4161-995d-736f97a99af8",
   "metadata": {},
   "source": [
    "# Training Pipeline"
   ]
  },
  {
   "cell_type": "markdown",
   "id": "4578ea5f-6f45-45a9-b7d6-6ba484b15ba3",
   "metadata": {},
   "source": [
    "## 1. Model code artifacts\n",
    "폴더 구조 참조 : [Getting started with deploying real-time models on Amazon SageMaker](https://aws.amazon.com/blogs/machine-learning/getting-started-with-deploying-real-time-models-on-amazon-sagemaker/)\n",
    "\n",
    "```\n",
    "# Pytorch\n",
    "model.tar.gz/\n",
    "             |- model.pth\n",
    "             |- code/\n",
    "                     |- inference.py\n",
    "                     |- requirements.txt # only for versions 1.3.1 and higher\n",
    "```"
   ]
  },
  {
   "cell_type": "code",
   "execution_count": 87,
   "id": "666f9e11-4198-4cdf-8231-207e75a1e8fc",
   "metadata": {},
   "outputs": [],
   "source": [
    "# project namespace\n",
    "project_prefix = \"proto\"\n",
    "\n",
    "# model prefix - depends on model version\n",
    "model_group = \"ncf-sample-1\"\n",
    "\n",
    "# pipeline and model props\n",
    "training_pipeline_name = f'{project_prefix}-{model_group}-training'\n",
    "model_package_group_name = f'{project_prefix}-{model_group}'\n",
    "\n",
    "# code repository\n",
    "model_code_dir = \"src_v1\"\n",
    "\n",
    "# parameter store keys\n",
    "key_repackage_lambda_arn = f'/{project_prefix}/MlOps/Lambda/Function/ModelRepackage'\n",
    "key_metric_lambda_arn = f'/{project_prefix}/MlOps/Lambda/Function/ModelMetric'\n",
    "key_s3_mlops_bucket_name = f'/{project_prefix}/MlOps/S3/Bucket/Name/s3MlOpsBucket'\n",
    "\n",
    "# training pipeline manifest file\n",
    "pipeline_manifest_file = \"pipeline_config.json\""
   ]
  },
  {
   "cell_type": "markdown",
   "id": "428097ce-3def-43c0-8c6b-a6e70bf4c2e7",
   "metadata": {},
   "source": [
    "## 2. Training setup"
   ]
  },
  {
   "cell_type": "code",
   "execution_count": 88,
   "id": "284eb7f6-7d49-40be-a54c-74d2b5ac2fe7",
   "metadata": {},
   "outputs": [
    {
     "name": "stdout",
     "output_type": "stream",
     "text": [
      "The autoreload extension is already loaded. To reload it, use:\n",
      "  %reload_ext autoreload\n"
     ]
    }
   ],
   "source": [
    "%load_ext autoreload\n",
    "%autoreload 2\n",
    "\n",
    "import sys\n",
    "import boto3\n",
    "import sagemaker\n",
    "import json\n",
    "\n",
    "# src 폴더 경로 설정\n",
    "sys.path.append(f'./{model_code_dir}')\n",
    "ssm = boto3.client('ssm')"
   ]
  },
  {
   "cell_type": "code",
   "execution_count": 174,
   "id": "79455f41-6034-4206-bc4d-b452609ae049",
   "metadata": {},
   "outputs": [],
   "source": [
    "# S3 Bucket\n",
    "paramRes = ssm.get_parameter(Name=key_s3_mlops_bucket_name, WithDecryption=False)\n",
    "bucket = paramRes[\"Parameter\"][\"Value\"]\n",
    "\n",
    "# S3 data path\n",
    "data_prefix = f\"data/{model_group}\"\n",
    "code_prefix=f'code/{model_group}'\n",
    "model_prefix=f'model/{model_group}'\n",
    "\n",
    "s3_input_data_uri = f\"s3://{bucket}/{data_prefix}\"\n",
    "s3_model_output_uri =  f\"s3://{bucket}/{model_prefix}\""
   ]
  },
  {
   "cell_type": "code",
   "execution_count": 175,
   "id": "83fa9ca4-586f-48cc-aa33-239d5adcf379",
   "metadata": {},
   "outputs": [
    {
     "name": "stdout",
     "output_type": "stream",
     "text": [
      "sagemaker.config INFO - Not applying SDK defaults from location: /etc/xdg/sagemaker/config.yaml\n",
      "sagemaker.config INFO - Not applying SDK defaults from location: /home/sagemaker-user/.config/sagemaker/config.yaml\n",
      "sagemaker.config INFO - Not applying SDK defaults from location: /etc/xdg/sagemaker/config.yaml\n",
      "sagemaker.config INFO - Not applying SDK defaults from location: /home/sagemaker-user/.config/sagemaker/config.yaml\n",
      "bucket:  cjproto-975050344093-ap-northeast-2-mlops-bucket\n",
      "role:  arn:aws:iam::975050344093:role/cjprotoDev-cjprotoExperim-SageMakerStudioSageMakerE-ovIXL1hq7LV4\n"
     ]
    }
   ],
   "source": [
    "# sagemaker\n",
    "region = boto3.Session().region_name\n",
    "sagemaker_session = sagemaker.session.Session()\n",
    "role = sagemaker.get_execution_role()\n",
    "\n",
    "print(\"bucket: \", bucket)\n",
    "print(\"role: \", role)\n",
    "\n",
    "sm_client = boto3.client('sagemaker', region_name=region)"
   ]
  },
  {
   "cell_type": "code",
   "execution_count": 176,
   "id": "c1760bbc-7958-4e8d-85e9-f8277e540d45",
   "metadata": {},
   "outputs": [
    {
     "name": "stdout",
     "output_type": "stream",
     "text": [
      "s3_input_data_uri: \n",
      " s3://cjproto-975050344093-ap-northeast-2-mlops-bucket/data/ncf-sample\n",
      "bucket: \n",
      " cjproto-975050344093-ap-northeast-2-mlops-bucket\n",
      "project_prefix: \n",
      " cjproto\n",
      "model_package_group_name: \n",
      " model/ncf-sample\n"
     ]
    }
   ],
   "source": [
    "print(\"s3_input_data_uri: \\n\", s3_input_data_uri)\n",
    "print(\"bucket: \\n\", bucket)\n",
    "print(\"project_prefix: \\n\", project_prefix)\n",
    "print(\"model_package_group_name: \\n\", model_prefix)"
   ]
  },
  {
   "cell_type": "markdown",
   "id": "54701cd1-2cbf-4a20-af58-27301d90f1ad",
   "metadata": {},
   "source": [
    "## 3. Package Code"
   ]
  },
  {
   "cell_type": "markdown",
   "id": "c754c729-1a48-4e0a-955f-44cf8cded49b",
   "metadata": {},
   "source": [
    "### 3.1 compress code"
   ]
  },
  {
   "cell_type": "code",
   "execution_count": 177,
   "id": "551f0ed7-e339-48e0-a11b-e1c53bc700b1",
   "metadata": {},
   "outputs": [],
   "source": [
    "import os\n",
    "\n",
    "package_dir = 'code_pkg'\n",
    "os.makedirs(package_dir, exist_ok=True)\n",
    "\n",
    "code_dir = f'../{model_code_dir}'"
   ]
  },
  {
   "cell_type": "code",
   "execution_count": 178,
   "id": "d9854461-dba4-4fb8-a370-9d4dc1fcaf63",
   "metadata": {},
   "outputs": [
    {
     "name": "stdout",
     "output_type": "stream",
     "text": [
      "/home/sagemaker-user/cjproto-mlops-repo/mlpipelines/sample_recomm_model/code_pkg\n",
      "common_utils.py\n",
      "config.py\n",
      "data_utils.py\n",
      "evaluate.py\n",
      "inference.py\n",
      "model.py\n",
      "model_config.json\n",
      "requirements.txt\n",
      "train.py\n",
      "train_lib.py\n"
     ]
    }
   ],
   "source": [
    "%%sh -s {package_dir} {code_dir}\n",
    "\n",
    "package_dir=$1\n",
    "code_dir=$2\n",
    "\n",
    "cd $package_dir # 폴더 생성\n",
    "echo $PWD\n",
    "rm -rf ./*\n",
    "cp -r $code_dir/*.py  .  # src py 모두 카피\n",
    "cp -r $code_dir/*.txt  .  # src 파일 모두 카피\n",
    "cp -r $code_dir/*.json  .  # json 파일 모두 카피\n",
    "tar -czvf source.tar.gz * # model.tar.gz 파일 생성"
   ]
  },
  {
   "cell_type": "markdown",
   "id": "45587a4f-9278-441a-b535-325679b44633",
   "metadata": {},
   "source": [
    "## 3.2 upload code"
   ]
  },
  {
   "cell_type": "code",
   "execution_count": 179,
   "id": "d2485cbd-f422-49be-b32d-c40364bf49cf",
   "metadata": {},
   "outputs": [
    {
     "name": "stdout",
     "output_type": "stream",
     "text": [
      "source_artifact: \n",
      " s3://cjproto-975050344093-ap-northeast-2-mlops-bucket/code/ncf-sample/source.tar.gz\n"
     ]
    }
   ],
   "source": [
    "source_path = os.path.join(package_dir, 'source.tar.gz')\n",
    "source_artifact = sagemaker_session.upload_data(source_path, bucket, code_prefix)\n",
    "print(\"source_artifact: \\n\", source_artifact)"
   ]
  },
  {
   "cell_type": "markdown",
   "id": "bc0c3757-743f-4785-b0f2-f07895730c93",
   "metadata": {},
   "source": [
    "## 4. Create SageMaker Pipeline\n",
    "\n",
    "### 4.1 Pipeline setup"
   ]
  },
  {
   "cell_type": "code",
   "execution_count": 95,
   "id": "aae695b1-4994-4117-8b29-e2f05f0e99b5",
   "metadata": {},
   "outputs": [
    {
     "name": "stdout",
     "output_type": "stream",
     "text": [
      "sagemaker.config INFO - Not applying SDK defaults from location: /etc/xdg/sagemaker/config.yaml\n",
      "sagemaker.config INFO - Not applying SDK defaults from location: /home/sagemaker-user/.config/sagemaker/config.yaml\n",
      "### --> Cloud Mode\n"
     ]
    }
   ],
   "source": [
    "from sagemaker.workflow.parameters import (\n",
    "    ParameterInteger,\n",
    "    ParameterString,\n",
    "    ParameterFloat,\n",
    ")\n",
    "\n",
    "# 입력 데이터\n",
    "s3_data_loc = ParameterString(\n",
    "    name=\"InputData\",\n",
    "    default_value=s3_input_data_uri,\n",
    ")\n",
    "\n",
    "# 모델 승인 상태\n",
    "model_approval_status = ParameterString(\n",
    "    name=\"ModelApprovalStatus\", default_value=\"PendingManualApproval\"\n",
    ")\n",
    "\n",
    "# 학습 코드 경로\n",
    "s3_model_code = ParameterString(\n",
    "    name=\"TrainCode\",\n",
    "    default_value=source_artifact,\n",
    ")\n",
    "\n",
    "# Pipeline Session\n",
    "# LOCAL_MODE = True # 로컬 모드시 사용\n",
    "LOCAL_MODE = False # 클라우드 모드시 사용\n",
    "if LOCAL_MODE:\n",
    "    from sagemaker.workflow.pipeline_context import LocalPipelineSession\n",
    "    pipeline_session = LocalPipelineSession()\n",
    "    print(\"### --> Local Mode\")\n",
    "else:\n",
    "    from sagemaker.workflow.pipeline_context import PipelineSession\n",
    "    pipeline_session = PipelineSession()\n",
    "    print(\"### --> Cloud Mode\")  \n"
   ]
  },
  {
   "cell_type": "markdown",
   "id": "a41785e3-9f1f-41ad-9873-55a5cbe3d046",
   "metadata": {},
   "source": [
    "### 4.2 Cache definition\n",
    "* 캐싱 파이프라인 단계: [Caching Pipeline Steps](https://docs.aws.amazon.com/ko_kr/sagemaker/latest/dg/pipelines-caching.html)"
   ]
  },
  {
   "cell_type": "code",
   "execution_count": 96,
   "id": "2902ce0a-33fc-4a3f-99d9-af9dc1830def",
   "metadata": {},
   "outputs": [],
   "source": [
    "from sagemaker.workflow.steps import CacheConfig\n",
    "\n",
    "cache_config = CacheConfig(enable_caching=True, \n",
    "                           expire_after=\"1d\")"
   ]
  },
  {
   "cell_type": "markdown",
   "id": "51498295-bd99-4e01-996f-478e409f9eb0",
   "metadata": {},
   "source": [
    "### 4.3 Hyperparameters"
   ]
  },
  {
   "cell_type": "code",
   "execution_count": 158,
   "id": "0bd65ceb-533a-4895-bc5f-ada1c294d976",
   "metadata": {},
   "outputs": [],
   "source": [
    "host_hyperparameters = {'epochs': 1, \n",
    "                       'lr': 0.001,\n",
    "                       'batch_size': 256,\n",
    "                       'top_k' : 10,\n",
    "                       'dropout' : 0.0,\n",
    "                       'factor_num' : 32,\n",
    "                       'num_layers' : 3,\n",
    "                       'num_ng' : 4,\n",
    "                       'test_num_ng' : 99,                   \n",
    "                    }  "
   ]
  },
  {
   "cell_type": "markdown",
   "id": "7e84cb43-dec8-49bd-a151-53aaedc14581",
   "metadata": {},
   "source": [
    "### 4.4 Metric definitions\n",
    "* 메트릭 지정 참고 : [Monitor and Analyze Training Jobs Using Amazon CloudWatch ](https://docs.aws.amazon.com/ko_kr/sagemaker/latest/dg/training-metrics.html)"
   ]
  },
  {
   "cell_type": "code",
   "execution_count": 159,
   "id": "d0aab3d1-0ace-4b63-bf7b-ba3714dda071",
   "metadata": {},
   "outputs": [],
   "source": [
    "metric_definitions=[\n",
    "       {'Name': 'HR', 'Regex': 'HR=(.*?);'},\n",
    "       {'Name': 'NDCG', 'Regex': 'NDCG=(.*?);'},\n",
    "       {'Name': 'Loss', 'Regex': 'Loss=(.*?);'}        \n",
    "    ]"
   ]
  },
  {
   "cell_type": "markdown",
   "id": "2e6bba68-fbf9-480c-9da4-80b649cfff7c",
   "metadata": {},
   "source": [
    "### 4.5 Create Estimator"
   ]
  },
  {
   "cell_type": "code",
   "execution_count": 160,
   "id": "bd4bc128-063d-430d-894e-216ac9e3d7e7",
   "metadata": {},
   "outputs": [
    {
     "name": "stdout",
     "output_type": "stream",
     "text": [
      "estimator_output_path: \n",
      " s3://cjproto-975050344093-ap-northeast-2-mlops-bucket/model/ncf-sample\n",
      "sagemaker.config INFO - Not applying SDK defaults from location: /etc/xdg/sagemaker/config.yaml\n",
      "sagemaker.config INFO - Not applying SDK defaults from location: /home/sagemaker-user/.config/sagemaker/config.yaml\n"
     ]
    },
    {
     "name": "stderr",
     "output_type": "stream",
     "text": [
      "The source_dir is a pipeline variable: <class 'sagemaker.workflow.parameters.ParameterString'>. During pipeline execution, the interpreted value of source_dir has to be an S3 URI and must point to a tar.gz file\n"
     ]
    }
   ],
   "source": [
    "from sagemaker.pytorch import PyTorch\n",
    "\n",
    "estimator_output_path = s3_model_output_uri\n",
    "print(\"estimator_output_path: \\n\", estimator_output_path)\n",
    "\n",
    "base_job_name = f'{project_prefix}-{model_prefix}'\n",
    "instance_type = 'ml.p3.2xlarge'\n",
    "instance_count = 1\n",
    "\n",
    "# 로컬의 train.py 파일로 학습 : model_code_dir\n",
    "# S3 경로에 압축파일로 올라간 압축파일로 학습 : s3_model_code\n",
    "host_estimator = PyTorch(\n",
    "    base_job_name = base_job_name,\n",
    "    entry_point=\"train.py\",    \n",
    "    source_dir=s3_model_code,    \n",
    "    role=role,\n",
    "    output_path = estimator_output_path,    \n",
    "    framework_version='1.12.1',\n",
    "    py_version='py38',\n",
    "    disable_profiler = True,\n",
    "    instance_count=instance_count,\n",
    "    instance_type=instance_type,\n",
    "    session = pipeline_session,\n",
    "    hyperparameters=host_hyperparameters,\n",
    "    metric_definitions = metric_definitions\n",
    ")"
   ]
  },
  {
   "cell_type": "markdown",
   "id": "e7b954f1-651e-4502-8f16-36e0b3e27f9a",
   "metadata": {},
   "source": [
    "### 4.6 Create TrainingStep"
   ]
  },
  {
   "cell_type": "code",
   "execution_count": 161,
   "id": "7856190d-f74c-45f1-be82-ae7f2a3779b9",
   "metadata": {},
   "outputs": [],
   "source": [
    "from sagemaker.inputs import TrainingInput\n",
    "from sagemaker.workflow.steps import TrainingStep\n",
    "\n",
    "\n",
    "step_train = TrainingStep(\n",
    "    name= \"NCF-Training\",\n",
    "    estimator=host_estimator,\n",
    "    inputs={\n",
    "        \"train\": TrainingInput(\n",
    "            s3_data= s3_data_loc\n",
    "        ),\n",
    "        \"test\": TrainingInput(\n",
    "            s3_data= s3_data_loc\n",
    "        ),        \n",
    "    },\n",
    "    cache_config = cache_config, # 캐시 정의     \n",
    ")"
   ]
  },
  {
   "cell_type": "markdown",
   "id": "8ecd7dd0-01ab-4051-a8f3-26b66d64fa88",
   "metadata": {},
   "source": [
    "### 4.7 Lambda Step for packaging outputs\n",
    "* 학습 끝난 녀석의 압축을 풀면 pth 파일 하나만 있다.\n",
    "* inference.py 파일과 같이 묶어줘야 한다."
   ]
  },
  {
   "cell_type": "code",
   "execution_count": 162,
   "id": "2de56eed-8efe-4a7d-b152-78a9ad6bc5d6",
   "metadata": {},
   "outputs": [
    {
     "name": "stdout",
     "output_type": "stream",
     "text": [
      "Repackage Lambda :  arn:aws:lambda:ap-northeast-2:975050344093:function:cjproto-training-pipeline-model-repackage\n"
     ]
    }
   ],
   "source": [
    "# Lamnda function ARN 조회\n",
    "import boto3\n",
    "ssm = boto3.client('ssm')\n",
    "paramRes = ssm.get_parameter(Name=key_repackage_lambda_arn, WithDecryption=False)\n",
    "repackage_lambda_arn = paramRes[\"Parameter\"][\"Value\"]\n",
    "\n",
    "print('Repackage Lambda : ', repackage_lambda_arn)"
   ]
  },
  {
   "cell_type": "code",
   "execution_count": 163,
   "id": "30712e96-e376-4ac4-b5da-deacaac14ac1",
   "metadata": {},
   "outputs": [
    {
     "name": "stdout",
     "output_type": "stream",
     "text": [
      "sagemaker.config INFO - Not applying SDK defaults from location: /etc/xdg/sagemaker/config.yaml\n",
      "sagemaker.config INFO - Not applying SDK defaults from location: /home/sagemaker-user/.config/sagemaker/config.yaml\n"
     ]
    }
   ],
   "source": [
    "# Lambda Function 인스턴스\n",
    "from sagemaker.lambda_helper import Lambda\n",
    "\n",
    "func_repackage_model = Lambda(function_arn=repackage_lambda_arn)"
   ]
  },
  {
   "cell_type": "code",
   "execution_count": 164,
   "id": "648fd0fd-3755-48f5-b52f-60a50b7272c9",
   "metadata": {},
   "outputs": [],
   "source": [
    "# LambdaStep 생성\n",
    "from sagemaker.workflow.lambda_step import (\n",
    "    LambdaStep,\n",
    "    LambdaOutput,\n",
    "    LambdaOutputTypeEnum,\n",
    ")\n",
    "from datetime import datetime\n",
    "\n",
    "currentDateAndTime = datetime.now()\n",
    "currentTime = currentDateAndTime.strftime(\"%Y-%m-%d-%H-%M-%S\")\n",
    "bucket_prefix = f'repackage/{model_prefix}/{currentTime}'\n",
    "\n",
    "output_param_1 = LambdaOutput(output_name=\"statusCode\", output_type=LambdaOutputTypeEnum.String)\n",
    "output_param_2 = LambdaOutput(output_name=\"body\", output_type=LambdaOutputTypeEnum.String)\n",
    "output_param_3 = LambdaOutput(output_name=\"S3_Model_URI\", output_type=LambdaOutputTypeEnum.String)\n",
    "\n",
    "step_repackage_lambda = LambdaStep(\n",
    "    name=\"LambdaRepackageStep\",\n",
    "    lambda_func=func_repackage_model,\n",
    "    inputs={\n",
    "        \"source_path\" : source_artifact,\n",
    "        \"model_path\": step_train.properties.ModelArtifacts.S3ModelArtifacts,\n",
    "        \"bucket\" : bucket,\n",
    "        \"prefix\" : bucket_prefix\n",
    "    },\n",
    "    outputs=[output_param_1, output_param_2, output_param_3],\n",
    ")"
   ]
  },
  {
   "cell_type": "markdown",
   "id": "6a27dfe5-2c0d-49cb-898f-3af53d775938",
   "metadata": {},
   "source": [
    "### 4.8 Lambda Step for metric outputs\n",
    "* 모델 모니터링 : https://docs.aws.amazon.com/ko_kr/sagemaker/latest/dg/model-monitor.html\n",
    "* 모델 품질 지표 : https://docs.aws.amazon.com/ko_kr/sagemaker/latest/dg/model-monitor-model-quality-metrics.html\n",
    "* [(notebook sample) Monitor and Analyze Training Jobs Using Metrics ](https://github.com/aws-samples/TensorFlow-in-SageMaker-workshop/blob/master/1_Monitoring_your_TensorFlow_scripts.ipynb)\n",
    "* [(notebook sample) Comparing model metrics with SageMaker Pipelines and SageMaker Model Registry](https://github.com/aws/amazon-sagemaker-examples/blob/main/sagemaker-pipeline-compare-model-versions/notebook.ipynb)"
   ]
  },
  {
   "cell_type": "code",
   "execution_count": 165,
   "id": "b9d3cdfc-ca6b-486f-8815-dad32c68c4ab",
   "metadata": {},
   "outputs": [
    {
     "name": "stdout",
     "output_type": "stream",
     "text": [
      "Metric Lambda :  arn:aws:lambda:ap-northeast-2:975050344093:function:cjproto-training-pipeline-model-metric\n"
     ]
    }
   ],
   "source": [
    "# Lamnda function ARN 조회\n",
    "import boto3\n",
    "ssm = boto3.client('ssm')\n",
    "paramRes = ssm.get_parameter(Name=key_metric_lambda_arn, WithDecryption=False)\n",
    "metric_lambda_arn = paramRes[\"Parameter\"][\"Value\"]\n",
    "\n",
    "print('Metric Lambda : ', metric_lambda_arn)"
   ]
  },
  {
   "cell_type": "code",
   "execution_count": 166,
   "id": "1e8c99a4-615f-44ec-bc8f-c4706b884524",
   "metadata": {},
   "outputs": [
    {
     "name": "stdout",
     "output_type": "stream",
     "text": [
      "sagemaker.config INFO - Not applying SDK defaults from location: /etc/xdg/sagemaker/config.yaml\n",
      "sagemaker.config INFO - Not applying SDK defaults from location: /home/sagemaker-user/.config/sagemaker/config.yaml\n"
     ]
    }
   ],
   "source": [
    "# Lambda Function 인스턴스\n",
    "from sagemaker.lambda_helper import Lambda\n",
    "\n",
    "func_metric_model = Lambda(function_arn=metric_lambda_arn)"
   ]
  },
  {
   "cell_type": "code",
   "execution_count": 167,
   "id": "2d74eb0e-cba0-4e9c-813f-2ec80c7c5759",
   "metadata": {},
   "outputs": [],
   "source": [
    "# LambdaStep 생성\n",
    "from sagemaker.workflow.lambda_step import (\n",
    "    LambdaStep,\n",
    "    LambdaOutput,\n",
    "    LambdaOutputTypeEnum,\n",
    ")\n",
    "from sagemaker.workflow.functions import Join\n",
    "\n",
    "metric_output_param_1 = LambdaOutput(output_name=\"statusCode\", output_type=LambdaOutputTypeEnum.String)\n",
    "metric_output_param_2 = LambdaOutput(output_name=\"body\", output_type=LambdaOutputTypeEnum.String)\n",
    "metric_output_param_3 = LambdaOutput(output_name=\"S3_Metric_URI\", output_type=LambdaOutputTypeEnum.String)\n",
    "\n",
    "output_path = Join(\n",
    "    on=\"/\",\n",
    "    values=[\n",
    "        step_train.properties.OutputDataConfig.S3OutputPath, \n",
    "        step_train.properties.TrainingJobName,\n",
    "        \"output\"\n",
    "    ]\n",
    ")\n",
    "\n",
    "step_metric_lambda = LambdaStep(\n",
    "    name=\"LambdaMetricStep\",\n",
    "    lambda_func=func_metric_model,\n",
    "    inputs={\n",
    "        \"output_path\" : output_path,\n",
    "        \"metric_file\": \"metrics.json\",\n",
    "        \"model_package_group\" : model_package_group_name\n",
    "    },\n",
    "    outputs=[metric_output_param_1, metric_output_param_2, metric_output_param_3],\n",
    ")"
   ]
  },
  {
   "cell_type": "markdown",
   "id": "64e10ecf-b58a-438b-886c-ff436a058041",
   "metadata": {},
   "source": [
    "### 4.9 Model Registration Step"
   ]
  },
  {
   "cell_type": "code",
   "execution_count": 168,
   "id": "0fbbb27b-793b-44ec-ad30-a8a320a7c8ae",
   "metadata": {},
   "outputs": [
    {
     "name": "stdout",
     "output_type": "stream",
     "text": [
      "cjproto-ncf-sample exitss\n"
     ]
    }
   ],
   "source": [
    "# 모델 그룹 생성\n",
    "model_package_group_input_dict = {\n",
    " \"ModelPackageGroupName\" : model_package_group_name,\n",
    " \"ModelPackageGroupDescription\" : \"Sample model package group\"\n",
    "}\n",
    "response = sm_client.list_model_package_groups(NameContains=model_package_group_name)\n",
    "if len(response['ModelPackageGroupSummaryList']) == 0:\n",
    "    print(\"No model group exists\")\n",
    "    print(\"Create model group\")    \n",
    "    \n",
    "    create_model_pacakge_group_response = sm_client.create_model_package_group(**model_package_group_input_dict)\n",
    "    print('ModelPackageGroup Arn : {}'.format(create_model_pacakge_group_response['ModelPackageGroupArn']))    \n",
    "else:\n",
    "    print(f\"{model_package_group_name} exitss\")"
   ]
  },
  {
   "cell_type": "code",
   "execution_count": 169,
   "id": "4e4615c0-7369-4a4f-a020-53fc638f07fb",
   "metadata": {},
   "outputs": [],
   "source": [
    "# 모델 메트릭 등록\n",
    "from sagemaker.model_metrics import MetricsSource, ModelMetrics\n",
    "from sagemaker.workflow.functions import Join\n",
    "model_metrics = ModelMetrics(\n",
    "    model_statistics=MetricsSource(\n",
    "        s3_uri=step_metric_lambda.properties.Outputs[\"S3_Metric_URI\"],\n",
    "        content_type=\"application/json\",\n",
    "    )\n",
    ")"
   ]
  },
  {
   "cell_type": "code",
   "execution_count": 170,
   "id": "afbd8c30-36a1-48a7-9dc8-79d2f2bcbc0c",
   "metadata": {},
   "outputs": [],
   "source": [
    "# 모델 등록 스텝 정의\n",
    "from sagemaker.workflow.model_step import ModelStep\n",
    "from sagemaker.model import Model\n",
    "\n",
    "# sagemaker의 pytorch 기본 이미지\n",
    "# 참고 : https://github.com/aws/deep-learning-containers/blob/master/available_images.md\n",
    "inference_image_uri = f'763104351884.dkr.ecr.{region}.amazonaws.com/pytorch-inference:1.12.1-gpu-py38-cu113-ubuntu20.04-sagemaker'\n",
    "\n",
    "model = Model(\n",
    "    image_uri=inference_image_uri,\n",
    "    model_data = step_repackage_lambda.properties.Outputs[\"S3_Model_URI\"],\n",
    "    role=role,\n",
    "    sagemaker_session=pipeline_session,\n",
    ")\n",
    "\n",
    "\n",
    "register_model_step_args = model.register(\n",
    "    content_types=[\"text/csv\"],\n",
    "    response_types=[\"text/csv\"],\n",
    "    inference_instances=[\"ml.g4dn.xlarge\", \"ml.p2.xlarge\"],\n",
    "    transform_instances=[\"ml.g4dn.xlarge\"],\n",
    "    model_package_group_name=model_package_group_name,\n",
    "    approval_status=model_approval_status,\n",
    "    model_metrics=model_metrics,\n",
    ")\n",
    "\n",
    "step_model_registration = ModelStep(\n",
    "   name=\"RegisterModel\",\n",
    "   step_args=register_model_step_args,\n",
    ")"
   ]
  },
  {
   "cell_type": "markdown",
   "id": "acfa77c6-373c-44c0-87c9-c417621169db",
   "metadata": {},
   "source": [
    "## 5. Pipeline Definition"
   ]
  },
  {
   "cell_type": "code",
   "execution_count": 171,
   "id": "75c829a6-6b6c-44ec-9bc8-3a1a497bfb36",
   "metadata": {},
   "outputs": [],
   "source": [
    "from sagemaker.workflow.pipeline import Pipeline\n",
    "\n",
    "# 파이프라인 정의\n",
    "pipeline = Pipeline(\n",
    "    name=training_pipeline_name,\n",
    "    parameters=[\n",
    "        s3_data_loc,\n",
    "        model_approval_status,\n",
    "        s3_model_code,\n",
    "    ],\n",
    "    sagemaker_session=pipeline_session,\n",
    "    #steps=[step_train, step_model_registration],\n",
    "    steps=[step_train, step_repackage_lambda, step_metric_lambda, step_model_registration],    \n",
    ")\n"
   ]
  },
  {
   "cell_type": "code",
   "execution_count": 172,
   "id": "e23f1a9b-526e-4884-9b36-943b8d795516",
   "metadata": {},
   "outputs": [
    {
     "name": "stderr",
     "output_type": "stream",
     "text": [
      "Popping out 'TrainingJobName' from the pipeline definition by default since it will be overridden at pipeline execution time. Please utilize the PipelineDefinitionConfig to persist this field in the pipeline definition if desired.\n",
      "Popping out 'CertifyForMarketplace' from the pipeline definition since it will be overridden in pipeline execution time.\n",
      "Popping out 'ModelPackageName' from the pipeline definition by default since it will be overridden at pipeline execution time. Please utilize the PipelineDefinitionConfig to persist this field in the pipeline definition if desired.\n",
      "Popping out 'TrainingJobName' from the pipeline definition by default since it will be overridden at pipeline execution time. Please utilize the PipelineDefinitionConfig to persist this field in the pipeline definition if desired.\n",
      "Popping out 'ModelPackageName' from the pipeline definition by default since it will be overridden at pipeline execution time. Please utilize the PipelineDefinitionConfig to persist this field in the pipeline definition if desired.\n"
     ]
    },
    {
     "name": "stdout",
     "output_type": "stream",
     "text": [
      " definition : \n",
      " {'Version': '2020-12-01', 'Metadata': {}, 'Parameters': [{'Name': 'InputData', 'Type': 'String', 'DefaultValue': 's3://cjproto-975050344093-ap-northeast-2-mlops-bucket/data/ncf-sample'}, {'Name': 'ModelApprovalStatus', 'Type': 'String', 'DefaultValue': 'PendingManualApproval'}, {'Name': 'TrainCode', 'Type': 'String', 'DefaultValue': 's3://cjproto-975050344093-ap-northeast-2-mlops-bucket/code/ncf-sample/source.tar.gz'}], 'PipelineExperimentConfig': {'ExperimentName': {'Get': 'Execution.PipelineName'}, 'TrialName': {'Get': 'Execution.PipelineExecutionId'}}, 'Steps': [{'Name': 'NCF-Training', 'Type': 'Training', 'Arguments': {'AlgorithmSpecification': {'TrainingInputMode': 'File', 'TrainingImage': '763104351884.dkr.ecr.ap-northeast-2.amazonaws.com/pytorch-training:1.12.1-gpu-py38', 'MetricDefinitions': [{'Name': 'HR', 'Regex': 'HR=(.*?);'}, {'Name': 'NDCG', 'Regex': 'NDCG=(.*?);'}, {'Name': 'Loss', 'Regex': 'Loss=(.*?);'}], 'EnableSageMakerMetricsTimeSeries': True}, 'OutputDataConfig': {'S3OutputPath': 's3://cjproto-975050344093-ap-northeast-2-mlops-bucket/model/ncf-sample'}, 'StoppingCondition': {'MaxRuntimeInSeconds': 86400}, 'ResourceConfig': {'VolumeSizeInGB': 30, 'InstanceCount': 1, 'InstanceType': 'ml.p3.2xlarge'}, 'RoleArn': 'arn:aws:iam::975050344093:role/cjprotoDev-cjprotoExperim-SageMakerStudioSageMakerE-ovIXL1hq7LV4', 'InputDataConfig': [{'DataSource': {'S3DataSource': {'S3DataType': 'S3Prefix', 'S3Uri': {'Get': 'Parameters.InputData'}, 'S3DataDistributionType': 'FullyReplicated'}}, 'ChannelName': 'train'}, {'DataSource': {'S3DataSource': {'S3DataType': 'S3Prefix', 'S3Uri': {'Get': 'Parameters.InputData'}, 'S3DataDistributionType': 'FullyReplicated'}}, 'ChannelName': 'test'}], 'HyperParameters': {'epochs': '2', 'lr': '0.001', 'batch_size': '256', 'top_k': '10', 'dropout': '0.0', 'factor_num': '32', 'num_layers': '3', 'num_ng': '4', 'test_num_ng': '99', 'sagemaker_submit_directory': {'Get': 'Parameters.TrainCode'}, 'sagemaker_program': '\"train.py\"', 'sagemaker_container_log_level': '20', 'sagemaker_region': '\"ap-northeast-2\"'}, 'DebugHookConfig': {'S3OutputPath': 's3://cjproto-975050344093-ap-northeast-2-mlops-bucket/model/ncf-sample', 'CollectionConfigurations': []}, 'ProfilerConfig': {'DisableProfiler': True}}, 'CacheConfig': {'Enabled': True, 'ExpireAfter': '1d'}}, {'Name': 'LambdaRepackageStep', 'Type': 'Lambda', 'Arguments': {'source_path': 's3://cjproto-975050344093-ap-northeast-2-mlops-bucket/code/ncf-sample/source.tar.gz', 'model_path': {'Get': 'Steps.NCF-Training.ModelArtifacts.S3ModelArtifacts'}, 'bucket': 'cjproto-975050344093-ap-northeast-2-mlops-bucket', 'prefix': 'repackage/model/ncf-sample/2024-03-08-02-23-02'}, 'FunctionArn': 'arn:aws:lambda:ap-northeast-2:975050344093:function:cjproto-training-pipeline-model-repackage', 'OutputParameters': [{'OutputName': 'statusCode', 'OutputType': 'String'}, {'OutputName': 'body', 'OutputType': 'String'}, {'OutputName': 'S3_Model_URI', 'OutputType': 'String'}]}, {'Name': 'LambdaMetricStep', 'Type': 'Lambda', 'Arguments': {'output_path': {'Std:Join': {'On': '/', 'Values': [{'Get': 'Steps.NCF-Training.OutputDataConfig.S3OutputPath'}, {'Get': 'Steps.NCF-Training.TrainingJobName'}, 'output']}}, 'metric_file': 'metrics.json', 'model_package_group': 'cjproto-ncf-sample'}, 'FunctionArn': 'arn:aws:lambda:ap-northeast-2:975050344093:function:cjproto-training-pipeline-model-metric', 'OutputParameters': [{'OutputName': 'statusCode', 'OutputType': 'String'}, {'OutputName': 'body', 'OutputType': 'String'}, {'OutputName': 'S3_Metric_URI', 'OutputType': 'String'}]}, {'Name': 'RegisterModel-RegisterModel', 'Type': 'RegisterModel', 'Arguments': {'ModelPackageGroupName': 'cjproto-ncf-sample', 'ModelMetrics': {'ModelQuality': {'Statistics': {'ContentType': 'application/json', 'S3Uri': {'Get': \"Steps.LambdaMetricStep.OutputParameters['S3_Metric_URI']\"}}}, 'Bias': {}, 'Explainability': {}}, 'InferenceSpecification': {'Containers': [{'Image': '763104351884.dkr.ecr.ap-northeast-2.amazonaws.com/pytorch-inference:1.12.1-gpu-py38-cu113-ubuntu20.04-sagemaker', 'Environment': {}, 'ModelDataUrl': {'Get': \"Steps.LambdaRepackageStep.OutputParameters['S3_Model_URI']\"}}], 'SupportedContentTypes': ['text/csv'], 'SupportedResponseMIMETypes': ['text/csv'], 'SupportedRealtimeInferenceInstanceTypes': ['ml.g4dn.xlarge', 'ml.p2.xlarge'], 'SupportedTransformInstanceTypes': ['ml.g4dn.xlarge']}, 'ModelApprovalStatus': {'Get': 'Parameters.ModelApprovalStatus'}, 'SkipModelValidation': 'None'}}]}\n"
     ]
    },
    {
     "name": "stderr",
     "output_type": "stream",
     "text": [
      "Popping out 'TrainingJobName' from the pipeline definition by default since it will be overridden at pipeline execution time. Please utilize the PipelineDefinitionConfig to persist this field in the pipeline definition if desired.\n",
      "Popping out 'ModelPackageName' from the pipeline definition by default since it will be overridden at pipeline execution time. Please utilize the PipelineDefinitionConfig to persist this field in the pipeline definition if desired.\n"
     ]
    },
    {
     "data": {
      "text/plain": [
       "{'PipelineArn': 'arn:aws:sagemaker:ap-northeast-2:975050344093:pipeline/cjproto-ncf-sample-training',\n",
       " 'ResponseMetadata': {'RequestId': '97275345-6fdc-4e53-a740-b4ccfdd744b1',\n",
       "  'HTTPStatusCode': 200,\n",
       "  'HTTPHeaders': {'x-amzn-requestid': '97275345-6fdc-4e53-a740-b4ccfdd744b1',\n",
       "   'content-type': 'application/x-amz-json-1.1',\n",
       "   'content-length': '100',\n",
       "   'date': 'Fri, 08 Mar 2024 02:23:14 GMT'},\n",
       "  'RetryAttempts': 0}}"
      ]
     },
     "execution_count": 172,
     "metadata": {},
     "output_type": "execute_result"
    }
   ],
   "source": [
    "# 파이프라인 등록\n",
    "import json\n",
    "\n",
    "definition = json.loads(pipeline.definition())\n",
    "print(\" definition : \\n\", definition)\n",
    "\n",
    "pipeline.upsert(role_arn=role)\n"
   ]
  },
  {
   "cell_type": "code",
   "execution_count": 157,
   "id": "23420265-275b-4f0c-83e6-f1d309028d5a",
   "metadata": {},
   "outputs": [
    {
     "data": {
      "text/plain": [
       "'{\"Version\": \"2020-12-01\", \"Metadata\": {}, \"Parameters\": [{\"Name\": \"InputData\", \"Type\": \"String\", \"DefaultValue\": \"s3://cjproto-975050344093-ap-northeast-2-mlops-bucket/data/ncf-sample\"}, {\"Name\": \"ModelApprovalStatus\", \"Type\": \"String\", \"DefaultValue\": \"PendingManualApproval\"}, {\"Name\": \"TrainCode\", \"Type\": \"String\", \"DefaultValue\": \"s3://cjproto-975050344093-ap-northeast-2-mlops-bucket/code/ncf-sample/source.tar.gz\"}], \"PipelineExperimentConfig\": {\"ExperimentName\": {\"Get\": \"Execution.PipelineName\"}, \"TrialName\": {\"Get\": \"Execution.PipelineExecutionId\"}}, \"Steps\": [{\"Name\": \"NCF-Training\", \"Type\": \"Training\", \"Arguments\": {\"AlgorithmSpecification\": {\"TrainingInputMode\": \"File\", \"TrainingImage\": \"763104351884.dkr.ecr.ap-northeast-2.amazonaws.com/pytorch-training:1.12.1-gpu-py38\", \"MetricDefinitions\": [{\"Name\": \"HR\", \"Regex\": \"HR=(.*?);\"}, {\"Name\": \"NDCG\", \"Regex\": \"NDCG=(.*?);\"}, {\"Name\": \"Loss\", \"Regex\": \"Loss=(.*?);\"}], \"EnableSageMakerMetricsTimeSeries\": true}, \"OutputDataConfig\": {\"S3OutputPath\": \"s3://cjproto-975050344093-ap-northeast-2-mlops-bucket/model/ncf-sample\"}, \"StoppingCondition\": {\"MaxRuntimeInSeconds\": 86400}, \"ResourceConfig\": {\"VolumeSizeInGB\": 30, \"InstanceCount\": 1, \"InstanceType\": \"ml.p3.2xlarge\"}, \"RoleArn\": \"arn:aws:iam::975050344093:role/cjprotoDev-cjprotoExperim-SageMakerStudioSageMakerE-ovIXL1hq7LV4\", \"InputDataConfig\": [{\"DataSource\": {\"S3DataSource\": {\"S3DataType\": \"S3Prefix\", \"S3Uri\": {\"Get\": \"Parameters.InputData\"}, \"S3DataDistributionType\": \"FullyReplicated\"}}, \"ChannelName\": \"train\"}, {\"DataSource\": {\"S3DataSource\": {\"S3DataType\": \"S3Prefix\", \"S3Uri\": {\"Get\": \"Parameters.InputData\"}, \"S3DataDistributionType\": \"FullyReplicated\"}}, \"ChannelName\": \"test\"}], \"HyperParameters\": {\"epochs\": \"1\", \"lr\": \"0.001\", \"batch_size\": \"256\", \"top_k\": \"10\", \"dropout\": \"0.0\", \"factor_num\": \"32\", \"num_layers\": \"3\", \"num_ng\": \"4\", \"test_num_ng\": \"99\", \"sagemaker_submit_directory\": {\"Get\": \"Parameters.TrainCode\"}, \"sagemaker_program\": \"\\\\\"train.py\\\\\"\", \"sagemaker_container_log_level\": \"20\", \"sagemaker_region\": \"\\\\\"ap-northeast-2\\\\\"\"}, \"DebugHookConfig\": {\"S3OutputPath\": \"s3://cjproto-975050344093-ap-northeast-2-mlops-bucket/model/ncf-sample\", \"CollectionConfigurations\": []}, \"ProfilerConfig\": {\"DisableProfiler\": true}}, \"CacheConfig\": {\"Enabled\": true, \"ExpireAfter\": \"1d\"}}, {\"Name\": \"LambdaRepackageStep\", \"Type\": \"Lambda\", \"Arguments\": {\"source_path\": \"s3://cjproto-975050344093-ap-northeast-2-mlops-bucket/code/ncf-sample/source.tar.gz\", \"model_path\": {\"Get\": \"Steps.NCF-Training.ModelArtifacts.S3ModelArtifacts\"}, \"bucket\": \"cjproto-975050344093-ap-northeast-2-mlops-bucket\", \"prefix\": \"repackage/model/ncf-sample/2024-03-07-11-37-15\"}, \"FunctionArn\": \"arn:aws:lambda:ap-northeast-2:975050344093:function:cjproto-training-pipeline-model-repackage\", \"OutputParameters\": [{\"OutputName\": \"statusCode\", \"OutputType\": \"String\"}, {\"OutputName\": \"body\", \"OutputType\": \"String\"}, {\"OutputName\": \"S3_Model_URI\", \"OutputType\": \"String\"}]}, {\"Name\": \"LambdaMetricStep\", \"Type\": \"Lambda\", \"Arguments\": {\"output_path\": {\"Std:Join\": {\"On\": \"/\", \"Values\": [{\"Get\": \"Steps.NCF-Training.OutputDataConfig.S3OutputPath\"}, {\"Get\": \"Steps.NCF-Training.TrainingJobName\"}, \"output\"]}}, \"metric_file\": \"metrics.json\", \"model_package_group\": \"cjproto-ncf-sample\"}, \"FunctionArn\": \"arn:aws:lambda:ap-northeast-2:975050344093:function:cjproto-training-pipeline-model-metric\", \"OutputParameters\": [{\"OutputName\": \"statusCode\", \"OutputType\": \"String\"}, {\"OutputName\": \"body\", \"OutputType\": \"String\"}, {\"OutputName\": \"S3_Metric_URI\", \"OutputType\": \"String\"}]}, {\"Name\": \"RegisterModel-RegisterModel\", \"Type\": \"RegisterModel\", \"Arguments\": {\"ModelPackageGroupName\": \"cjproto-ncf-sample\", \"ModelMetrics\": {\"ModelQuality\": {\"Statistics\": {\"ContentType\": \"application/json\", \"S3Uri\": {\"Get\": \"Steps.LambdaMetricStep.OutputParameters[\\'S3_Metric_URI\\']\"}}}, \"Bias\": {}, \"Explainability\": {}}, \"InferenceSpecification\": {\"Containers\": [{\"Image\": \"763104351884.dkr.ecr.ap-northeast-2.amazonaws.com/pytorch-inference:1.12.1-gpu-py38-cu113-ubuntu20.04-sagemaker\", \"Environment\": {}, \"ModelDataUrl\": {\"Get\": \"Steps.LambdaRepackageStep.OutputParameters[\\'S3_Model_URI\\']\"}}], \"SupportedContentTypes\": [\"text/csv\"], \"SupportedResponseMIMETypes\": [\"text/csv\"], \"SupportedRealtimeInferenceInstanceTypes\": [\"ml.g4dn.xlarge\", \"ml.p2.xlarge\"], \"SupportedTransformInstanceTypes\": [\"ml.g4dn.xlarge\"]}, \"ModelApprovalStatus\": {\"Get\": \"Parameters.ModelApprovalStatus\"}, \"SkipModelValidation\": \"None\"}}]}'"
      ]
     },
     "execution_count": 157,
     "metadata": {},
     "output_type": "execute_result"
    }
   ],
   "source": [
    "json.dumps(definition)"
   ]
  },
  {
   "cell_type": "code",
   "execution_count": 173,
   "id": "dc40b9f0-a53e-48b2-923f-5f7dfd253f7b",
   "metadata": {},
   "outputs": [],
   "source": [
    "# (TEST) 파이프라인 시작\n",
    "# execution = pipeline.start()"
   ]
  },
  {
   "cell_type": "markdown",
   "id": "1237abdf-13bf-43f0-be43-13e02baeb315",
   "metadata": {},
   "source": [
    "# 6. Export pipeline config\n",
    "* 파이프라인 실행을 위한 매니패스트 파일 생성 및 업로드\n",
    "* S3에 매니패스트 파일이 업로드이벤트를 박아서 파이프라인 시작할때 사용"
   ]
  },
  {
   "cell_type": "code",
   "execution_count": 72,
   "id": "c98f096b-6447-475b-8e71-daa5c069999b",
   "metadata": {},
   "outputs": [],
   "source": [
    "# 파이프라인 실행을 위한 환경변수 내보내기\n",
    "pipeline_execution_config = {\n",
    "    'PipelineName' : training_pipeline_name,\n",
    "    'PipelineParameters' : [\n",
    "        { 'Name': s3_data_loc.name, 'Value': s3_data_loc.default_value},\n",
    "        { 'Name': s3_model_code.name, 'Value': s3_model_code.default_value},\n",
    "        { 'Name': model_approval_status.name, 'Value': model_approval_status.default_value},\n",
    "    ]\n",
    "}"
   ]
  },
  {
   "cell_type": "code",
   "execution_count": 73,
   "id": "fa945be0-5d16-47a2-85c4-0bbab0c256c9",
   "metadata": {},
   "outputs": [],
   "source": [
    "# 파일로 기록\n",
    "with open(pipeline_manifest_file, 'w', encoding='utf-8') as f:\n",
    "    json.dump(pipeline_execution_config, f, ensure_ascii=False, indent=4)\n"
   ]
  },
  {
   "cell_type": "code",
   "execution_count": 74,
   "id": "b5867d0a-ec5a-4d46-b963-b1ecccd5dc73",
   "metadata": {},
   "outputs": [],
   "source": [
    "# S3 코드 경로에 업로드\n",
    "manifest_artifact = sagemaker_session.upload_data(pipeline_manifest_file, bucket, code_prefix)"
   ]
  }
 ],
 "metadata": {
  "kernelspec": {
   "display_name": "Python 3 (ipykernel)",
   "language": "python",
   "name": "python3"
  },
  "language_info": {
   "codemirror_mode": {
    "name": "ipython",
    "version": 3
   },
   "file_extension": ".py",
   "mimetype": "text/x-python",
   "name": "python",
   "nbconvert_exporter": "python",
   "pygments_lexer": "ipython3",
   "version": "3.10.13"
  }
 },
 "nbformat": 4,
 "nbformat_minor": 5
}
